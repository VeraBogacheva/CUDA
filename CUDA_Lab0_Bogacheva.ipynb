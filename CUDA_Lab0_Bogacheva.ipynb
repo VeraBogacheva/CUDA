{
  "nbformat": 4,
  "nbformat_minor": 0,
  "metadata": {
    "colab": {
      "name": "Untitled",
      "provenance": [],
      "collapsed_sections": []
    },
    "kernelspec": {
      "name": "python3",
      "display_name": "Python 3"
    },
    "accelerator": "GPU"
  },
  "cells": [
    {
      "cell_type": "code",
      "metadata": {
        "id": "at-4GYkBDwzE"
      },
      "source": [
        "#Библиотеки\n",
        "import numpy as np\n",
        "from numba import cuda\n",
        "from time import time\n",
        "import math"
      ],
      "execution_count": 5,
      "outputs": []
    },
    {
      "cell_type": "code",
      "metadata": {
        "id": "N2JlXt8MjT4N",
        "outputId": "e84f76b1-9ccf-49d5-fb80-6a127289768b",
        "colab": {
          "base_uri": "https://localhost:8080/"
        }
      },
      "source": [
        "!lscpu |grep 'Model name'\n",
        "!nvidia-smi"
      ],
      "execution_count": 4,
      "outputs": [
        {
          "output_type": "stream",
          "text": [
            "Model name:          Intel(R) Xeon(R) CPU @ 2.20GHz\n",
            "Mon Nov  2 20:02:04 2020       \n",
            "+-----------------------------------------------------------------------------+\n",
            "| NVIDIA-SMI 455.32.00    Driver Version: 418.67       CUDA Version: 10.1     |\n",
            "|-------------------------------+----------------------+----------------------+\n",
            "| GPU  Name        Persistence-M| Bus-Id        Disp.A | Volatile Uncorr. ECC |\n",
            "| Fan  Temp  Perf  Pwr:Usage/Cap|         Memory-Usage | GPU-Util  Compute M. |\n",
            "|                               |                      |               MIG M. |\n",
            "|===============================+======================+======================|\n",
            "|   0  Tesla T4            Off  | 00000000:00:04.0 Off |                    0 |\n",
            "| N/A   71C    P0    29W /  70W |    233MiB / 15079MiB |      0%      Default |\n",
            "|                               |                      |                 ERR! |\n",
            "+-------------------------------+----------------------+----------------------+\n",
            "                                                                               \n",
            "+-----------------------------------------------------------------------------+\n",
            "| Processes:                                                                  |\n",
            "|  GPU   GI   CI        PID   Type   Process name                  GPU Memory |\n",
            "|        ID   ID                                                   Usage      |\n",
            "|=============================================================================|\n",
            "|  No running processes found                                                 |\n",
            "+-----------------------------------------------------------------------------+\n"
          ],
          "name": "stdout"
        }
      ]
    },
    {
      "cell_type": "code",
      "metadata": {
        "id": "Eemq16C5NP95"
      },
      "source": [
        "#Построчное вычисление произведения матриц\n",
        "def simple_dot_cpu(matrix1, matrix2):\n",
        "  N = len(matrix1)\n",
        "  matrix_res = np.zeros((N,N))\n",
        "  start = time()\n",
        "  for i in range(N):\n",
        "    for j in range(N):\n",
        "      for k in range(N):\n",
        "        matrix_res[i, j] += matrix1[i,k] * matrix2[k,j]\n",
        "  return matrix_res, time()-start"
      ],
      "execution_count": 6,
      "outputs": []
    },
    {
      "cell_type": "code",
      "metadata": {
        "id": "_cSpDxauNdXr"
      },
      "source": [
        "#встроенная функция для подсчета произведения\n",
        "def numpy_dot_cpu(matrix1, matrix2):\n",
        "  start = time()\n",
        "  matrix_res = np.dot(matrix1, matrix2)\n",
        "  return matrix_res, time() - start"
      ],
      "execution_count": 7,
      "outputs": []
    },
    {
      "cell_type": "code",
      "metadata": {
        "id": "5Wl7laCrO6dA"
      },
      "source": [
        "#подключается ядро cuda, вычисляется один элемент\n",
        "@cuda.jit\n",
        "def simple_dot_gpu(matrix1, matrix2, matrix_res):\n",
        "    i, j = cuda.grid(2)\n",
        "    if i < matrix_res.shape[0] and j < matrix_res.shape[1]:\n",
        "      temp = 0\n",
        "      for k in range(matrix1.shape[1]):\n",
        "        temp += matrix1[i, k] * matrix2[k, j]\n",
        "      matrix_res[i, j] = temp"
      ],
      "execution_count": 8,
      "outputs": []
    },
    {
      "cell_type": "code",
      "metadata": {
        "id": "KPG54_NyO7qz"
      },
      "source": [
        "def gpu_dot_exec(matrix1, matrix2, matrix_res, N):\n",
        "  #нити в блоке \n",
        "  tread_number_block = 32\n",
        "  #создаем копии матриц и результата на gpu\n",
        "  matrix1_global = cuda.to_device(matrix1)\n",
        "  matrix2_global = cuda.to_device(matrix2)\n",
        "  matrix_res_global = cuda.device_array((N, N))\n",
        "    \n",
        "  #создание сетки\n",
        "  threadsperblock = (tread_number_block, tread_number_block)\n",
        "  blockspergrid_x = int(math.ceil(matrix1.shape[0] / threadsperblock[1]))\n",
        "  blockspergrid_y = int(math.ceil(matrix2.shape[1] / threadsperblock[0]))\n",
        "  blockspergrid = (blockspergrid_x, blockspergrid_y)\n",
        "\n",
        "  start = time()\n",
        "  #вызываем функцию на сетке\n",
        "  simple_dot_gpu[blockspergrid, threadsperblock](matrix1_global, matrix2_global, matrix_res_global)\n",
        "  gpu_time = time() - start\n",
        "  matrix_res_gpu = matrix_res_global.copy_to_host() \n",
        "  return matrix_res_gpu, gpu_time"
      ],
      "execution_count": 9,
      "outputs": []
    },
    {
      "cell_type": "code",
      "metadata": {
        "id": "rc7kxhmSPJvb"
      },
      "source": [
        "def one_test(N):  \n",
        "  gpu_time = 0\n",
        "  cpu_time = 0\n",
        "  matrix1 = np.random.randint(0, 10, (N, N))\n",
        "  matrix1 = matrix1.astype(np.float64)\n",
        "  matrix2 = np.random.randint(0, 10, (N, N))\n",
        "  matrix2 = matrix2.astype(np.float64)\n",
        "  matrix_res = np.zeros((N, N))\n",
        "  matrix_res = matrix_res.astype(np.float64)\n",
        "    \n",
        "  matrix_res_gpu, gpu_time = gpu_dot_exec(matrix1, matrix2, matrix_res, N)\n",
        "  start = time()\n",
        "  matrix_res_cpu = simple_dot_cpu(matrix1, matrix2)\n",
        "  cpu_time += time() - start\n",
        "\n",
        "  print('Размер матрицы N =', N)\n",
        "  print('Время вычисления на CPU =',cpu_time)\n",
        "  print('Время вычисления на GPU =',gpu_time)\n",
        "  print('Ускорение = ',cpu_time/gpu_time )\n",
        "  return cpu_time/gpu_time, matrix_res_cpu, matrix_res_gpu"
      ],
      "execution_count": 10,
      "outputs": []
    },
    {
      "cell_type": "code",
      "metadata": {
        "id": "eaJxNMo9PQM7"
      },
      "source": [
        "#с помощью данной функции проверяется корректность перемножения\n",
        "def check_correctly_dot(N):\n",
        "  matrix1 = np.random.randint(0, 10, (N, N))\n",
        "  matrix1 = matrix1.astype(np.float64)\n",
        "  matrix2 = np.random.randint(0, 10, (N, N))\n",
        "  matrix2 = matrix2.astype(np.float64)\n",
        "  matrix_res = np.zeros((N, N))\n",
        "  matrix_res = matrix_res.astype(np.float64)\n",
        "  matrix_res_real = numpy_dot_cpu(matrix1,matrix2)[0]\n",
        "  matrix_res_cpu = simple_dot_cpu(matrix1,matrix2)[0]\n",
        "  matrix_res_gpu = gpu_dot_exec(matrix1, matrix2, matrix_res, N)[0]\n",
        "  if np.array_equal(matrix_res_real, matrix_res_cpu):\n",
        "    print('Перемножение на CPU корректно')\n",
        "  else:\n",
        "    print('Перемножение на CPU НЕ корректно')\n",
        "  if np.array_equal(matrix_res_real, matrix_res_gpu):\n",
        "    print('Перемножение на GPU корректно')\n",
        "  else:\n",
        "    print('Перемножение на GPU НЕ корректно')"
      ],
      "execution_count": 11,
      "outputs": []
    },
    {
      "cell_type": "code",
      "metadata": {
        "id": "gvhqUhtOPTTD",
        "outputId": "c6d373c7-18e7-40c5-ff43-201720aeb713",
        "colab": {
          "base_uri": "https://localhost:8080/",
          "height": 527
        }
      },
      "source": [
        "check_correctly_dot(128)\n",
        "result = np.zeros((5,2), dtype = np.float64)\n",
        "result[0][0], result[0][1] = 128, one_test(128)[0]\n",
        "result[1][0], result[1][1] = 256, one_test(256)[0]\n",
        "result[2][0], result[2][1] = 512, one_test(512)[0]\n",
        "result[3][0], result[3][1] = 1024, one_test(1024)[0]\n",
        "result[4][0], result[4][1] = 2048, one_test(2048)[0]"
      ],
      "execution_count": 13,
      "outputs": [
        {
          "output_type": "stream",
          "text": [
            "Перемножение на CPU корректно\n",
            "Перемножение на GPU корректно\n",
            "Размер матрицы N = 128\n",
            "Время вычисления на CPU = 1.5289130210876465\n",
            "Время вычисления на GPU = 0.0003352165222167969\n",
            "Ускорение =  4560.971550497867\n",
            "Размер матрицы N = 256\n",
            "Время вычисления на CPU = 11.817030191421509\n",
            "Время вычисления на GPU = 0.0003764629364013672\n",
            "Ускорение =  31389.624445851805\n"
          ],
          "name": "stdout"
        },
        {
          "output_type": "error",
          "ename": "KeyboardInterrupt",
          "evalue": "ignored",
          "traceback": [
            "\u001b[0;31m---------------------------------------------------------------------------\u001b[0m",
            "\u001b[0;31mKeyboardInterrupt\u001b[0m                         Traceback (most recent call last)",
            "\u001b[0;32m<ipython-input-13-ea5bddac4bce>\u001b[0m in \u001b[0;36m<module>\u001b[0;34m()\u001b[0m\n\u001b[1;32m      3\u001b[0m \u001b[0mresult\u001b[0m\u001b[0;34m[\u001b[0m\u001b[0;36m0\u001b[0m\u001b[0;34m]\u001b[0m\u001b[0;34m[\u001b[0m\u001b[0;36m0\u001b[0m\u001b[0;34m]\u001b[0m\u001b[0;34m,\u001b[0m \u001b[0mresult\u001b[0m\u001b[0;34m[\u001b[0m\u001b[0;36m0\u001b[0m\u001b[0;34m]\u001b[0m\u001b[0;34m[\u001b[0m\u001b[0;36m1\u001b[0m\u001b[0;34m]\u001b[0m \u001b[0;34m=\u001b[0m \u001b[0;36m128\u001b[0m\u001b[0;34m,\u001b[0m \u001b[0mone_test\u001b[0m\u001b[0;34m(\u001b[0m\u001b[0;36m128\u001b[0m\u001b[0;34m)\u001b[0m\u001b[0;34m[\u001b[0m\u001b[0;36m0\u001b[0m\u001b[0;34m]\u001b[0m\u001b[0;34m\u001b[0m\u001b[0;34m\u001b[0m\u001b[0m\n\u001b[1;32m      4\u001b[0m \u001b[0mresult\u001b[0m\u001b[0;34m[\u001b[0m\u001b[0;36m1\u001b[0m\u001b[0;34m]\u001b[0m\u001b[0;34m[\u001b[0m\u001b[0;36m0\u001b[0m\u001b[0;34m]\u001b[0m\u001b[0;34m,\u001b[0m \u001b[0mresult\u001b[0m\u001b[0;34m[\u001b[0m\u001b[0;36m1\u001b[0m\u001b[0;34m]\u001b[0m\u001b[0;34m[\u001b[0m\u001b[0;36m1\u001b[0m\u001b[0;34m]\u001b[0m \u001b[0;34m=\u001b[0m \u001b[0;36m256\u001b[0m\u001b[0;34m,\u001b[0m \u001b[0mone_test\u001b[0m\u001b[0;34m(\u001b[0m\u001b[0;36m256\u001b[0m\u001b[0;34m)\u001b[0m\u001b[0;34m[\u001b[0m\u001b[0;36m0\u001b[0m\u001b[0;34m]\u001b[0m\u001b[0;34m\u001b[0m\u001b[0;34m\u001b[0m\u001b[0m\n\u001b[0;32m----> 5\u001b[0;31m \u001b[0mresult\u001b[0m\u001b[0;34m[\u001b[0m\u001b[0;36m2\u001b[0m\u001b[0;34m]\u001b[0m\u001b[0;34m[\u001b[0m\u001b[0;36m0\u001b[0m\u001b[0;34m]\u001b[0m\u001b[0;34m,\u001b[0m \u001b[0mresult\u001b[0m\u001b[0;34m[\u001b[0m\u001b[0;36m2\u001b[0m\u001b[0;34m]\u001b[0m\u001b[0;34m[\u001b[0m\u001b[0;36m1\u001b[0m\u001b[0;34m]\u001b[0m \u001b[0;34m=\u001b[0m \u001b[0;36m512\u001b[0m\u001b[0;34m,\u001b[0m \u001b[0mone_test\u001b[0m\u001b[0;34m(\u001b[0m\u001b[0;36m512\u001b[0m\u001b[0;34m)\u001b[0m\u001b[0;34m[\u001b[0m\u001b[0;36m0\u001b[0m\u001b[0;34m]\u001b[0m\u001b[0;34m\u001b[0m\u001b[0;34m\u001b[0m\u001b[0m\n\u001b[0m\u001b[1;32m      6\u001b[0m \u001b[0mresult\u001b[0m\u001b[0;34m[\u001b[0m\u001b[0;36m3\u001b[0m\u001b[0;34m]\u001b[0m\u001b[0;34m[\u001b[0m\u001b[0;36m0\u001b[0m\u001b[0;34m]\u001b[0m\u001b[0;34m,\u001b[0m \u001b[0mresult\u001b[0m\u001b[0;34m[\u001b[0m\u001b[0;36m3\u001b[0m\u001b[0;34m]\u001b[0m\u001b[0;34m[\u001b[0m\u001b[0;36m1\u001b[0m\u001b[0;34m]\u001b[0m \u001b[0;34m=\u001b[0m \u001b[0;36m1024\u001b[0m\u001b[0;34m,\u001b[0m \u001b[0mone_test\u001b[0m\u001b[0;34m(\u001b[0m\u001b[0;36m1024\u001b[0m\u001b[0;34m)\u001b[0m\u001b[0;34m[\u001b[0m\u001b[0;36m0\u001b[0m\u001b[0;34m]\u001b[0m\u001b[0;34m\u001b[0m\u001b[0;34m\u001b[0m\u001b[0m\n\u001b[1;32m      7\u001b[0m \u001b[0mresult\u001b[0m\u001b[0;34m[\u001b[0m\u001b[0;36m4\u001b[0m\u001b[0;34m]\u001b[0m\u001b[0;34m[\u001b[0m\u001b[0;36m0\u001b[0m\u001b[0;34m]\u001b[0m\u001b[0;34m,\u001b[0m \u001b[0mresult\u001b[0m\u001b[0;34m[\u001b[0m\u001b[0;36m4\u001b[0m\u001b[0;34m]\u001b[0m\u001b[0;34m[\u001b[0m\u001b[0;36m1\u001b[0m\u001b[0;34m]\u001b[0m \u001b[0;34m=\u001b[0m \u001b[0;36m2048\u001b[0m\u001b[0;34m,\u001b[0m \u001b[0mone_test\u001b[0m\u001b[0;34m(\u001b[0m\u001b[0;36m2048\u001b[0m\u001b[0;34m)\u001b[0m\u001b[0;34m[\u001b[0m\u001b[0;36m0\u001b[0m\u001b[0;34m]\u001b[0m\u001b[0;34m\u001b[0m\u001b[0;34m\u001b[0m\u001b[0m\n",
            "\u001b[0;32m<ipython-input-10-0813eba19897>\u001b[0m in \u001b[0;36mone_test\u001b[0;34m(N)\u001b[0m\n\u001b[1;32m     11\u001b[0m   \u001b[0mmatrix_res_gpu\u001b[0m\u001b[0;34m,\u001b[0m \u001b[0mgpu_time\u001b[0m \u001b[0;34m=\u001b[0m \u001b[0mgpu_dot_exec\u001b[0m\u001b[0;34m(\u001b[0m\u001b[0mmatrix1\u001b[0m\u001b[0;34m,\u001b[0m \u001b[0mmatrix2\u001b[0m\u001b[0;34m,\u001b[0m \u001b[0mmatrix_res\u001b[0m\u001b[0;34m,\u001b[0m \u001b[0mN\u001b[0m\u001b[0;34m)\u001b[0m\u001b[0;34m\u001b[0m\u001b[0;34m\u001b[0m\u001b[0m\n\u001b[1;32m     12\u001b[0m   \u001b[0mstart\u001b[0m \u001b[0;34m=\u001b[0m \u001b[0mtime\u001b[0m\u001b[0;34m(\u001b[0m\u001b[0;34m)\u001b[0m\u001b[0;34m\u001b[0m\u001b[0;34m\u001b[0m\u001b[0m\n\u001b[0;32m---> 13\u001b[0;31m   \u001b[0mmatrix_res_cpu\u001b[0m \u001b[0;34m=\u001b[0m \u001b[0msimple_dot_cpu\u001b[0m\u001b[0;34m(\u001b[0m\u001b[0mmatrix1\u001b[0m\u001b[0;34m,\u001b[0m \u001b[0mmatrix2\u001b[0m\u001b[0;34m)\u001b[0m\u001b[0;34m\u001b[0m\u001b[0;34m\u001b[0m\u001b[0m\n\u001b[0m\u001b[1;32m     14\u001b[0m   \u001b[0mcpu_time\u001b[0m \u001b[0;34m+=\u001b[0m \u001b[0mtime\u001b[0m\u001b[0;34m(\u001b[0m\u001b[0;34m)\u001b[0m \u001b[0;34m-\u001b[0m \u001b[0mstart\u001b[0m\u001b[0;34m\u001b[0m\u001b[0;34m\u001b[0m\u001b[0m\n\u001b[1;32m     15\u001b[0m \u001b[0;34m\u001b[0m\u001b[0m\n",
            "\u001b[0;32m<ipython-input-6-2a7cd2930802>\u001b[0m in \u001b[0;36msimple_dot_cpu\u001b[0;34m(matrix1, matrix2)\u001b[0m\n\u001b[1;32m      7\u001b[0m     \u001b[0;32mfor\u001b[0m \u001b[0mj\u001b[0m \u001b[0;32min\u001b[0m \u001b[0mrange\u001b[0m\u001b[0;34m(\u001b[0m\u001b[0mN\u001b[0m\u001b[0;34m)\u001b[0m\u001b[0;34m:\u001b[0m\u001b[0;34m\u001b[0m\u001b[0;34m\u001b[0m\u001b[0m\n\u001b[1;32m      8\u001b[0m       \u001b[0;32mfor\u001b[0m \u001b[0mk\u001b[0m \u001b[0;32min\u001b[0m \u001b[0mrange\u001b[0m\u001b[0;34m(\u001b[0m\u001b[0mN\u001b[0m\u001b[0;34m)\u001b[0m\u001b[0;34m:\u001b[0m\u001b[0;34m\u001b[0m\u001b[0;34m\u001b[0m\u001b[0m\n\u001b[0;32m----> 9\u001b[0;31m         \u001b[0mmatrix_res\u001b[0m\u001b[0;34m[\u001b[0m\u001b[0mi\u001b[0m\u001b[0;34m,\u001b[0m \u001b[0mj\u001b[0m\u001b[0;34m]\u001b[0m \u001b[0;34m+=\u001b[0m \u001b[0mmatrix1\u001b[0m\u001b[0;34m[\u001b[0m\u001b[0mi\u001b[0m\u001b[0;34m,\u001b[0m\u001b[0mk\u001b[0m\u001b[0;34m]\u001b[0m \u001b[0;34m*\u001b[0m \u001b[0mmatrix2\u001b[0m\u001b[0;34m[\u001b[0m\u001b[0mk\u001b[0m\u001b[0;34m,\u001b[0m\u001b[0mj\u001b[0m\u001b[0;34m]\u001b[0m\u001b[0;34m\u001b[0m\u001b[0;34m\u001b[0m\u001b[0m\n\u001b[0m\u001b[1;32m     10\u001b[0m   \u001b[0;32mreturn\u001b[0m \u001b[0mmatrix_res\u001b[0m\u001b[0;34m,\u001b[0m \u001b[0mtime\u001b[0m\u001b[0;34m(\u001b[0m\u001b[0;34m)\u001b[0m\u001b[0;34m-\u001b[0m\u001b[0mstart\u001b[0m\u001b[0;34m\u001b[0m\u001b[0;34m\u001b[0m\u001b[0m\n",
            "\u001b[0;31mKeyboardInterrupt\u001b[0m: "
          ]
        }
      ]
    }
  ]
}